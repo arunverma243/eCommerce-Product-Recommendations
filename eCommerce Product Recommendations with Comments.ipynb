{
 "cells": [
  {
   "cell_type": "code",
   "execution_count": 1,
   "metadata": {},
   "outputs": [
    {
     "name": "stdout",
     "output_type": "stream",
     "text": [
      "Requirement already satisfied: pyspark in c:\\users\\aruverma\\anaconda3\\lib\\site-packages (3.0.1)\n",
      "Requirement already satisfied: py4j==0.10.9 in c:\\users\\aruverma\\anaconda3\\lib\\site-packages (from pyspark) (0.10.9)\n",
      "Note: you may need to restart the kernel to use updated packages.\n"
     ]
    }
   ],
   "source": [
    "pip install pyspark"
   ]
  },
  {
   "cell_type": "code",
   "execution_count": 3,
   "metadata": {},
   "outputs": [
    {
     "name": "stdout",
     "output_type": "stream",
     "text": [
      "Requirement already satisfied: findspark in c:\\users\\aruverma\\anaconda3\\lib\\site-packages (1.4.2)\n",
      "Note: you may need to restart the kernel to use updated packages.\n"
     ]
    }
   ],
   "source": [
    "pip install findspark"
   ]
  },
  {
   "cell_type": "code",
   "execution_count": 2,
   "metadata": {},
   "outputs": [],
   "source": [
    "from pyspark.sql import SparkSession"
   ]
  },
  {
   "cell_type": "code",
   "execution_count": 4,
   "metadata": {},
   "outputs": [],
   "source": [
    "spark = SparkSession \\\n",
    "    .builder \\\n",
    "    .appName(\"how to read csv file\") \\\n",
    "    .getOrCreate()"
   ]
  },
  {
   "cell_type": "code",
   "execution_count": 5,
   "metadata": {},
   "outputs": [
    {
     "data": {
      "text/plain": [
       "'3.0.1'"
      ]
     },
     "execution_count": 5,
     "metadata": {},
     "output_type": "execute_result"
    }
   ],
   "source": [
    "spark.version"
   ]
  },
  {
   "cell_type": "code",
   "execution_count": 6,
   "metadata": {},
   "outputs": [],
   "source": [
    "import os"
   ]
  },
  {
   "cell_type": "code",
   "execution_count": 7,
   "metadata": {},
   "outputs": [
    {
     "data": {
      "text/plain": [
       "'C:\\\\Users\\\\aruverma'"
      ]
     },
     "execution_count": 7,
     "metadata": {},
     "output_type": "execute_result"
    }
   ],
   "source": [
    "os.getcwd()"
   ]
  },
  {
   "cell_type": "code",
   "execution_count": 11,
   "metadata": {},
   "outputs": [],
   "source": [
    "# 1. Load data into Spark Data frames\n",
    "aisles=spark.read.option(\"inferSchema\",\"true\").option(\"header\",\"true\").csv(\"aisles.csv\").toDF(\"aisle_id\",\"aisle\")"
   ]
  },
  {
   "cell_type": "code",
   "execution_count": 12,
   "metadata": {},
   "outputs": [
    {
     "name": "stdout",
     "output_type": "stream",
     "text": [
      "+--------+--------------------+\n",
      "|aisle_id|               aisle|\n",
      "+--------+--------------------+\n",
      "|       1|prepared soups sa...|\n",
      "|       2|   specialty cheeses|\n",
      "+--------+--------------------+\n",
      "only showing top 2 rows\n",
      "\n"
     ]
    }
   ],
   "source": [
    "# aisles.show(2)"
   ]
  },
  {
   "cell_type": "code",
   "execution_count": 13,
   "metadata": {},
   "outputs": [],
   "source": [
    "departments=spark.read.option(\"inferSchema\",\"true\").option(\"header\",\"true\").csv(\"departments.csv\").toDF(\"department_id\",\"department\")"
   ]
  },
  {
   "cell_type": "code",
   "execution_count": 14,
   "metadata": {},
   "outputs": [
    {
     "name": "stdout",
     "output_type": "stream",
     "text": [
      "+-------------+----------+\n",
      "|department_id|department|\n",
      "+-------------+----------+\n",
      "|            1|    frozen|\n",
      "|            2|     other|\n",
      "+-------------+----------+\n",
      "only showing top 2 rows\n",
      "\n"
     ]
    }
   ],
   "source": [
    "departments.show(2)"
   ]
  },
  {
   "cell_type": "code",
   "execution_count": 15,
   "metadata": {},
   "outputs": [],
   "source": [
    "products=spark.read.option(\"inferSchema\",\"true\").option(\"header\",\"true\").csv(\"products.csv\").toDF(\"product_id\",\"product_name\",\"aisle_id\",\"department_id\")"
   ]
  },
  {
   "cell_type": "code",
   "execution_count": 16,
   "metadata": {},
   "outputs": [
    {
     "name": "stdout",
     "output_type": "stream",
     "text": [
      "+----------+--------------------+--------+-------------+\n",
      "|product_id|        product_name|aisle_id|department_id|\n",
      "+----------+--------------------+--------+-------------+\n",
      "|         1|Chocolate Sandwic...|      61|           19|\n",
      "|         2|    All-Seasons Salt|     104|           13|\n",
      "+----------+--------------------+--------+-------------+\n",
      "only showing top 2 rows\n",
      "\n"
     ]
    }
   ],
   "source": [
    "products.show(2)"
   ]
  },
  {
   "cell_type": "code",
   "execution_count": 17,
   "metadata": {},
   "outputs": [],
   "source": [
    "orders=spark.read.option(\"inferSchema\",\"true\").option(\"header\",\"true\").csv(\"orders.csv\").toDF(\"order_id\",\"user_id\",\"evala_set\",\"order_number\",\"order_dow\",\"order_hour_of_day\",\"days_since_prior_order\")"
   ]
  },
  {
   "cell_type": "code",
   "execution_count": 18,
   "metadata": {},
   "outputs": [
    {
     "name": "stdout",
     "output_type": "stream",
     "text": [
      "+--------+-------+---------+------------+---------+-----------------+----------------------+\n",
      "|order_id|user_id|evala_set|order_number|order_dow|order_hour_of_day|days_since_prior_order|\n",
      "+--------+-------+---------+------------+---------+-----------------+----------------------+\n",
      "| 2539329|      1|    prior|           1|        2|                8|                  null|\n",
      "| 2398795|      1|    prior|           2|        3|                7|                  15.0|\n",
      "+--------+-------+---------+------------+---------+-----------------+----------------------+\n",
      "only showing top 2 rows\n",
      "\n"
     ]
    }
   ],
   "source": [
    "orders.show(2)"
   ]
  },
  {
   "cell_type": "code",
   "execution_count": 21,
   "metadata": {},
   "outputs": [],
   "source": [
    "orders_train=spark.read.option(\"inferSchema\",\"true\").option(\"header\",\"true\").csv(\"order_products__train.csv\").toDF(\"order_id\",\"product_id\",\"add_to_cart_order\",\"reordered\")"
   ]
  },
  {
   "cell_type": "code",
   "execution_count": 22,
   "metadata": {},
   "outputs": [
    {
     "name": "stdout",
     "output_type": "stream",
     "text": [
      "+--------+----------+-----------------+---------+\n",
      "|order_id|product_id|add_to_cart_order|reordered|\n",
      "+--------+----------+-----------------+---------+\n",
      "|       1|     49302|                1|        1|\n",
      "|       1|     11109|                2|        1|\n",
      "+--------+----------+-----------------+---------+\n",
      "only showing top 2 rows\n",
      "\n"
     ]
    }
   ],
   "source": [
    "orders_train.show(2)"
   ]
  },
  {
   "cell_type": "code",
   "execution_count": 23,
   "metadata": {},
   "outputs": [],
   "source": [
    "# 2. Merge all data frames based on common key and create a single Data Frames\n",
    "df = products.join(aisles, aisles.aisle_id == products.aisle_id,\"left\").drop(aisles.aisle_id).join(departments, departments.department_id == products.department_id,\"left\").drop(departments.department_id).join(orders_train, orders_train.product_id == products.product_id,\"right\").drop(orders_train.product_id).join(orders, orders.order_id == orders_train.order_id, \"left\").drop(orders.order_id)"
   ]
  },
  {
   "cell_type": "code",
   "execution_count": 25,
   "metadata": {},
   "outputs": [
    {
     "data": {
      "text/plain": [
       "1384617"
      ]
     },
     "execution_count": 25,
     "metadata": {},
     "output_type": "execute_result"
    }
   ],
   "source": [
    "# 3. Check for any missing Data (if any such as null)\n",
    "filtered = df.filter(\" is not null and \".join(df.columns) + \" is not null\")\n",
    "filtered.count()"
   ]
  },
  {
   "cell_type": "code",
   "execution_count": 26,
   "metadata": {},
   "outputs": [
    {
     "name": "stdout",
     "output_type": "stream",
     "text": [
      "+----------------------+-----+\n",
      "|product_name          |count|\n",
      "+----------------------+-----+\n",
      "|Banana                |18726|\n",
      "|Bag of Organic Bananas|15480|\n",
      "|Organic Strawberries  |10894|\n",
      "|Organic Baby Spinach  |9784 |\n",
      "|Large Lemon           |8135 |\n",
      "|Organic Avocado       |7409 |\n",
      "|Organic Hass Avocado  |7293 |\n",
      "|Strawberries          |6494 |\n",
      "|Limes                 |6033 |\n",
      "|Organic Raspberries   |5546 |\n",
      "+----------------------+-----+\n",
      "only showing top 10 rows\n",
      "\n"
     ]
    }
   ],
   "source": [
    "# 4. List the most Ordered products (Top 10)\n",
    "from pyspark.sql.functions import col\n",
    "filtered.groupBy(\"product_name\").count().sort(col(\"count\").desc()).show(10,False)"
   ]
  },
  {
   "cell_type": "code",
   "execution_count": 38,
   "metadata": {},
   "outputs": [
    {
     "name": "stdout",
     "output_type": "stream",
     "text": [
      "+----------------------+------------------+----------------+\n",
      "|product_name          |avg(reordered)    |count(reordered)|\n",
      "+----------------------+------------------+----------------+\n",
      "|Banana                |0.8841717398269785|18726           |\n",
      "|Bag of Organic Bananas|0.8631782945736434|15480           |\n",
      "|Organic Strawberries  |0.7897007527079126|10894           |\n",
      "|Organic Baby Spinach  |0.8232829108748978|9784            |\n",
      "|Large Lemon           |0.7280885064535956|8135            |\n",
      "|Organic Avocado       |0.8403293291942232|7409            |\n",
      "|Organic Hass Avocado  |0.8284656519950637|7293            |\n",
      "|Strawberries          |0.7369879889128427|6494            |\n",
      "|Limes                 |0.701806729653572 |6033            |\n",
      "|Organic Raspberries   |0.7715470609448251|5546            |\n",
      "+----------------------+------------------+----------------+\n",
      "only showing top 10 rows\n",
      "\n"
     ]
    }
   ],
   "source": [
    "# 5. Check whether people usually reorder the same previous ordered products \n",
    "from pyspark.sql.functions import *\n",
    "filtered.groupBy(\"product_name\").agg(avg(\"reordered\"),count(\"reordered\")).sort(col(\"count(reordered)\").desc()).show(10,False)"
   ]
  },
  {
   "cell_type": "code",
   "execution_count": 39,
   "metadata": {},
   "outputs": [
    {
     "name": "stdout",
     "output_type": "stream",
     "text": [
      "+-----------------------------------------------+-------------------+----------------+\n",
      "|product_name                                   |avg(reordered)     |count(reordered)|\n",
      "+-----------------------------------------------+-------------------+----------------+\n",
      "|Pesto Cultured Cashew Cheese                   |0.5                |6               |\n",
      "|Organic Lentil Beans                           |0.5804195804195804 |143             |\n",
      "|Organic Cinnamon Crunch Cereal                 |0.5026041666666666 |384             |\n",
      "|Real Aged Cheddar Macaroni & Cheese            |0.6230769230769231 |130             |\n",
      "|Pizza Sauce                                    |0.5340909090909091 |176             |\n",
      "|XL Emerald White Seedless Grapes               |0.6220472440944882 |635             |\n",
      "|Pods Spring Meadow Scent Laundry Detergent Pacs|0.45454545454545453|33              |\n",
      "|Simply Stock Organic Vegetable Unsalted Stock  |0.2807017543859649 |57              |\n",
      "|Organic Raw Multigreen Kobmbucha               |0.7075098814229249 |253             |\n",
      "|Original Pancake & Waffle Mix                  |0.4166666666666667 |48              |\n",
      "+-----------------------------------------------+-------------------+----------------+\n",
      "only showing top 10 rows\n",
      "\n"
     ]
    }
   ],
   "source": [
    "# 6. List most reordered products\n",
    "filtered.groupBy(\"product_name\").agg(avg(\"reordered\"),count(\"reordered\")).show(10,False)"
   ]
  },
  {
   "cell_type": "code",
   "execution_count": 32,
   "metadata": {},
   "outputs": [
    {
     "name": "stdout",
     "output_type": "stream",
     "text": [
      "+--------------------+-----+\n",
      "|aisle               |count|\n",
      "+--------------------+-----+\n",
      "|missing             |1258 |\n",
      "|candy chocolate     |1246 |\n",
      "|ice cream ice       |1091 |\n",
      "|vitamins supplements|1038 |\n",
      "|yogurt              |1026 |\n",
      "|chips pretzels      |989  |\n",
      "|tea                 |894  |\n",
      "|packaged cheese     |891  |\n",
      "|frozen meals        |880  |\n",
      "|cookies cakes       |874  |\n",
      "+--------------------+-----+\n",
      "only showing top 10 rows\n",
      "\n",
      "+---------------+-----+\n",
      "|department     |count|\n",
      "+---------------+-----+\n",
      "|personal care  |6563 |\n",
      "|snacks         |6264 |\n",
      "|pantry         |5371 |\n",
      "|beverages      |4365 |\n",
      "|frozen         |4007 |\n",
      "|dairy eggs     |3449 |\n",
      "|household      |3084 |\n",
      "|canned goods   |2092 |\n",
      "|dry goods pasta|1858 |\n",
      "|produce        |1684 |\n",
      "+---------------+-----+\n",
      "only showing top 10 rows\n",
      "\n"
     ]
    }
   ],
   "source": [
    "# 7. Most important department and aisle (by number of products)\n",
    "df_prods = products.join(aisles, aisles.aisle_id == products.aisle_id,\"left\").drop(aisles.aisle_id).join(departments, departments.department_id == products.department_id,\"left\").drop(departments.department_id)\n",
    "df_prods.groupBy(\"aisle\").count().sort(col(\"count\").desc()).show(10,False)\n",
    "df_prods.groupBy(\"department\").count().sort(col(\"count\").desc()).show(10,False)"
   ]
  },
  {
   "cell_type": "code",
   "execution_count": 33,
   "metadata": {},
   "outputs": [
    {
     "name": "stdout",
     "output_type": "stream",
     "text": [
      "+---------------+------+\n",
      "|department     |count |\n",
      "+---------------+------+\n",
      "|produce        |409087|\n",
      "|dairy eggs     |217051|\n",
      "|snacks         |118862|\n",
      "|beverages      |114046|\n",
      "|frozen         |100426|\n",
      "|pantry         |81242 |\n",
      "|bakery         |48394 |\n",
      "|canned goods   |46799 |\n",
      "|deli           |44291 |\n",
      "|dry goods pasta|38713 |\n",
      "+---------------+------+\n",
      "only showing top 10 rows\n",
      "\n"
     ]
    }
   ],
   "source": [
    "# 8. Get the top 10 departments\n",
    "filtered.groupBy(\"department\").count().sort(col(\"count\").desc()).show(10,False)"
   ]
  },
  {
   "cell_type": "code",
   "execution_count": 34,
   "metadata": {},
   "outputs": [
    {
     "name": "stdout",
     "output_type": "stream",
     "text": [
      "+----------------------+-----+\n",
      "|product_name          |count|\n",
      "+----------------------+-----+\n",
      "|Banana                |6074 |\n",
      "|Bag of Organic Bananas|4929 |\n",
      "|Organic Strawberries  |3484 |\n",
      "|Organic Baby Spinach  |3028 |\n",
      "|Large Lemon           |2574 |\n",
      "|Organic Avocado       |2292 |\n",
      "|Organic Hass Avocado  |2233 |\n",
      "|Strawberries          |2173 |\n",
      "|Limes                 |1815 |\n",
      "|Organic Raspberries   |1803 |\n",
      "+----------------------+-----+\n",
      "only showing top 10 rows\n",
      "\n"
     ]
    }
   ],
   "source": [
    "# 9. List top 10 products ordered in the morning (6 AM to 11 AM)\n",
    "filtered.filter(\"order_hour_of_day >= 6 and order_hour_of_day<=11\").groupBy(\"product_name\").count().sort(col(\"count\").desc()).show(10,False)"
   ]
  }
 ],
 "metadata": {
  "kernelspec": {
   "display_name": "Python 3",
   "language": "python",
   "name": "python3"
  },
  "language_info": {
   "codemirror_mode": {
    "name": "ipython",
    "version": 3
   },
   "file_extension": ".py",
   "mimetype": "text/x-python",
   "name": "python",
   "nbconvert_exporter": "python",
   "pygments_lexer": "ipython3",
   "version": "3.8.3"
  }
 },
 "nbformat": 4,
 "nbformat_minor": 4
}
